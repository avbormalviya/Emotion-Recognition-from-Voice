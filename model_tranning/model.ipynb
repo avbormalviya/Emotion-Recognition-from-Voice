{
 "cells": [
  {
   "cell_type": "code",
   "execution_count": 1,
   "id": "b82af644",
   "metadata": {},
   "outputs": [],
   "source": [
    "import os\n",
    "import pandas as pd"
   ]
  },
  {
   "cell_type": "code",
   "execution_count": 2,
   "id": "c0533150",
   "metadata": {},
   "outputs": [],
   "source": [
    "emotion_map = {\n",
    "    '01': 'neutral',\n",
    "    '02': 'calm',\n",
    "    '03': 'happy',\n",
    "    '04': 'sad',\n",
    "    '05': 'angry',\n",
    "    '06': 'fearful',\n",
    "    '07': 'disgust',\n",
    "    '08': 'surprised'\n",
    "}"
   ]
  },
  {
   "cell_type": "code",
   "execution_count": 19,
   "id": "6febed46",
   "metadata": {},
   "outputs": [
    {
     "name": "stdout",
     "output_type": "stream",
     "text": [
      "CSV created with 1440 entries.\n"
     ]
    }
   ],
   "source": [
    "data = []\n",
    "\n",
    "DATASET_PATH = '../data'\n",
    "\n",
    "sum = 0\n",
    "\n",
    "for root, _, files in os.walk(DATASET_PATH):\n",
    "    sum += len(files)\n",
    "    for file in files:\n",
    "        if file.endswith('.wav'):\n",
    "            parts = file.split('-')\n",
    "            emotion_code = parts[2]\n",
    "            emotion_label = emotion_map.get(emotion_code)\n",
    "            filepath = os.path.join(root, file)\n",
    "            data.append([filepath, emotion_label])\n",
    "\n",
    "# Save to CSV\n",
    "df = pd.DataFrame(data, columns=['path', 'emotion'])\n",
    "df.to_csv('ravdess_labels.csv', index=False)\n",
    "print(\"CSV created with {} entries.\".format(len(df)))"
   ]
  },
  {
   "cell_type": "code",
   "execution_count": 20,
   "id": "5df639b5",
   "metadata": {},
   "outputs": [
    {
     "name": "stdout",
     "output_type": "stream",
     "text": [
      "Total files processed: 1440\n"
     ]
    }
   ],
   "source": [
    "print(\"Total files processed:\", sum)"
   ]
  }
 ],
 "metadata": {
  "kernelspec": {
   "display_name": "Python 3",
   "language": "python",
   "name": "python3"
  },
  "language_info": {
   "codemirror_mode": {
    "name": "ipython",
    "version": 3
   },
   "file_extension": ".py",
   "mimetype": "text/x-python",
   "name": "python",
   "nbconvert_exporter": "python",
   "pygments_lexer": "ipython3",
   "version": "3.12.0"
  }
 },
 "nbformat": 4,
 "nbformat_minor": 5
}
