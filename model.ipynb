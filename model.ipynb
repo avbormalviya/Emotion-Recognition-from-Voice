{
 "cells": [
  {
   "cell_type": "code",
   "execution_count": 95,
   "id": "b82af644",
   "metadata": {},
   "outputs": [],
   "source": [
    "import os\n",
    "import pandas as pd\n",
    "from sklearn.model_selection import train_test_split\n",
    "from sklearn.preprocessing import OneHotEncoder, LabelEncoder, StandardScaler\n",
    "from tensorflow.keras.models import Sequential\n",
    "from tensorflow.keras.layers import Input, Dense, Dropout, BatchNormalization\n",
    "from tensorflow.keras import regularizers\n",
    "from tensorflow.keras.callbacks import EarlyStopping"
   ]
  },
  {
   "cell_type": "code",
   "execution_count": 2,
   "id": "c0533150",
   "metadata": {},
   "outputs": [],
   "source": [
    "emotion_map = {\n",
    "    '01': 'neutral',\n",
    "    '02': 'calm',\n",
    "    '03': 'happy',\n",
    "    '04': 'sad',\n",
    "    '05': 'angry',\n",
    "    '06': 'fearful',\n",
    "    '07': 'disgust',\n",
    "    '08': 'surprised'\n",
    "}"
   ]
  },
  {
   "cell_type": "code",
   "execution_count": 3,
   "id": "6febed46",
   "metadata": {},
   "outputs": [],
   "source": [
    "paths = []\n",
    "y = []\n",
    "\n",
    "DATASET_PATH = 'data'\n",
    "\n",
    "for root, _, files in os.walk(DATASET_PATH):\n",
    "    for file in files:\n",
    "        if file.endswith('.wav'):\n",
    "            parts = file.split('-')\n",
    "            emotion_code = parts[2]\n",
    "            emotion_label = emotion_map.get(emotion_code)\n",
    "            filepath = os.path.join(root, file)\n",
    "            paths.append(filepath)\n",
    "            y.append(emotion_label)\n"
   ]
  },
  {
   "cell_type": "code",
   "execution_count": 4,
   "id": "9e27a17b",
   "metadata": {},
   "outputs": [],
   "source": [
    "import librosa as lr\n",
    "import numpy as np\n",
    "\n",
    "def extract_feature(file_path):\n",
    "    # Load audio file, convert to mono, resample for speed\n",
    "    audio, sample_rate = lr.load(file_path)\n",
    "\n",
    "    # 🎤 MFCCs (Mel-Frequency Cepstral Coefficients)\n",
    "    # Describes *how* the sound feels to the ear — tone & texture.\n",
    "    mfccs = np.mean(lr.feature.mfcc(y=audio, sr=sample_rate, n_mfcc=13).T, axis=0)\n",
    "\n",
    "    # 🔊 Energy (Root Mean Square)\n",
    "    # Measures how loud or intense the voice is.\n",
    "    energy = np.mean(lr.feature.rms(y=audio).T, axis=0)\n",
    "\n",
    "    # 🎼 Chroma STFT (Short-Time Fourier Transform)\n",
    "    # Captures pitch class (like musical notes); useful for emotion in melodic speech.\n",
    "    chroma = np.mean(lr.feature.chroma_stft(y=audio, sr=sample_rate).T, axis=0)\n",
    "\n",
    "    # ⏱️ Tempo (from Tempogram)\n",
    "    # Captures speed/rhythm of the speech — faster may mean excitement or stress.\n",
    "    tempo_val, _ = lr.beat.beat_track(y=audio, sr=sample_rate)\n",
    "    tempo = np.array([tempo_val])\n",
    "\n",
    "    # ⚡ Zero Crossing Rate\n",
    "    # Counts how often the signal changes sign — chaotic speech = more crossings.\n",
    "    zcr = np.mean(lr.feature.zero_crossing_rate(y=audio).T, axis=0)\n",
    "\n",
    "    # 📍 Spectral Centroid\n",
    "    # Tells where the \"center of mass\" of the sound spectrum is — higher = brighter sound.\n",
    "    centroid = np.mean(lr.feature.spectral_centroid(y=audio, sr=sample_rate).T, axis=0)\n",
    "\n",
    "    # 📏 Spectral Bandwidth\n",
    "    # Measures the width of the spectrum — more emotion = wider bandwidth.\n",
    "    bandwidth = np.mean(lr.feature.spectral_bandwidth(y=audio, sr=sample_rate).T, axis=0)\n",
    "\n",
    "    # 🌈 Spectral Contrast\n",
    "    # Captures the difference between peaks and valleys in the spectrum — useful for timbre/emotion.\n",
    "    contrast = np.mean(lr.feature.spectral_contrast(y=audio, sr=sample_rate).T, axis=0)\n",
    "\n",
    "    # 🪞 Spectral Flatness\n",
    "    # Measures noisiness — flat = noise-like, sharp = tonal.\n",
    "    flatness = np.mean(lr.feature.spectral_flatness(y=audio).T, axis=0)\n",
    "\n",
    "    # 🎚️ Spectral Rolloff\n",
    "    # Frequency below which most of the energy is contained — relates to tone sharpness.\n",
    "    rolloff = np.mean(lr.feature.spectral_rolloff(y=audio, sr=sample_rate).T, axis=0)\n",
    "\n",
    "    # 🔮 Tonnetz (Tonal Centroid)\n",
    "    # Advanced pitch features — captures harmonic relations; good for emotional musicality in voice.\n",
    "    tonnetz = np.mean(lr.feature.tonnetz(y=lr.effects.harmonic(audio), sr=sample_rate).T, axis=0)\n",
    "\n",
    "    # 🧠 Combine all features into a single vector\n",
    "    return np.hstack([\n",
    "        mfccs,         # 13 values\n",
    "        energy,        # 1 value\n",
    "        chroma,        # 12 values\n",
    "        tempo.flatten(),         # ~384 values — careful: this one’s BIG\n",
    "        zcr,           # 1 value\n",
    "        centroid,      # 1 value\n",
    "        bandwidth,     # 1 value\n",
    "        contrast,      # 7 values\n",
    "        flatness,      # 1 value\n",
    "        rolloff,       # 1 value\n",
    "        tonnetz        # 6 values\n",
    "    ])\n"
   ]
  },
  {
   "cell_type": "code",
   "execution_count": 5,
   "id": "fcccf842",
   "metadata": {},
   "outputs": [
    {
     "name": "stderr",
     "output_type": "stream",
     "text": [
      "C:\\Users\\Asus\\AppData\\Roaming\\Python\\Python312\\site-packages\\librosa\\core\\spectrum.py:266: UserWarning: n_fft=1024 is too large for input signal of length=1012\n",
      "  warnings.warn(\n"
     ]
    }
   ],
   "source": [
    "all_features = []\n",
    "\n",
    "for i in range(len(paths)):\n",
    "    file_path = paths[i]\n",
    "    features = extract_feature(file_path)\n",
    "    all_features.append(features)\n",
    "\n",
    "# Convert list of arrays into a DataFrame\n",
    "features_df = pd.DataFrame(all_features, columns=[f'feature_{i}' for i in range(len(all_features[0]))])\n",
    "\n",
    "features_df['path'] = paths\n",
    "features_df['emotion'] = y\n",
    "\n",
    "df = features_df\n",
    "\n",
    "# Save it\n",
    "df.to_csv('ravdess_labels.csv', index=False)"
   ]
  },
  {
   "cell_type": "code",
   "execution_count": 31,
   "id": "cb68120b",
   "metadata": {},
   "outputs": [],
   "source": [
    "# one_hot_encoder = OneHotEncoder(sparse_output=False)\n",
    "# y_encoded = one_hot_encoder.fit_transform(df[['emotion']])\n",
    "\n",
    "label_encoder = LabelEncoder()\n",
    "y_encoded = label_encoder.fit_transform(df['emotion'])"
   ]
  },
  {
   "cell_type": "code",
   "execution_count": 32,
   "id": "424e34e0",
   "metadata": {},
   "outputs": [],
   "source": [
    "x_train, x_test, y_train, y_test = train_test_split(\n",
    "    df.drop(columns=['path', 'emotion']),\n",
    "    y_encoded,\n",
    "    test_size=0.2,\n",
    "    random_state=42\n",
    ")"
   ]
  },
  {
   "cell_type": "code",
   "execution_count": 33,
   "id": "a81b914e",
   "metadata": {},
   "outputs": [],
   "source": [
    "scaler = StandardScaler()\n",
    "x_train_sc = scaler.fit_transform(x_train)\n",
    "x_test_sc = scaler.transform(x_test)"
   ]
  },
  {
   "cell_type": "code",
   "execution_count": 52,
   "id": "b318d1e9",
   "metadata": {},
   "outputs": [],
   "source": [
    "early_stopping = EarlyStopping(monitor='val_loss', patience=10, restore_best_weights=True)"
   ]
  },
  {
   "cell_type": "code",
   "execution_count": 96,
   "id": "d6440169",
   "metadata": {},
   "outputs": [],
   "source": [
    "model = Sequential([\n",
    "    Input(shape=(x_train.shape[1],)),\n",
    "\n",
    "    Dense(512, activation='relu', kernel_regularizer=regularizers.l2(0.03)),\n",
    "    # Dropout(0.1),\n",
    "\n",
    "    Dense(256, activation='relu'),\n",
    "    # Dropout(0.1),\n",
    "\n",
    "    Dense(128, activation='relu'),\n",
    "    Dropout(0.1),\n",
    "\n",
    "    Dense(len(emotion_map), activation='softmax')\n",
    "])\n",
    "\n",
    "model.compile(optimizer='adam', loss='sparse_categorical_crossentropy', metrics=['accuracy'])\n",
    "\n",
    "history = model.fit(x_train_sc, y_train, epochs=100, batch_size=32, validation_split=0.2, verbose=0, callbacks=[early_stopping])"
   ]
  },
  {
   "cell_type": "code",
   "execution_count": 97,
   "id": "fc92e2d1",
   "metadata": {},
   "outputs": [
    {
     "data": {
      "image/png": "[encoded data removed]",
      "text/plain": [
       "<Figure size 640x480 with 1 Axes>"
      ]
     },
     "metadata": {},
     "output_type": "display_data"
    }
   ],
   "source": [
    "import matplotlib.pyplot as plt\n",
    "\n",
    "plt.plot(history.history['accuracy'], label='Train Accuracy')\n",
    "plt.plot(history.history['val_accuracy'], label='Validation Accuracy')\n",
    "plt.title('Model Accuracy')\n",
    "plt.xlabel('Epochs')\n",
    "plt.ylabel('Accuracy')\n",
    "plt.legend()\n",
    "plt.grid()\n",
    "\n",
    "plt.show()"
   ]
  }
 ],
 "metadata": {
  "kernelspec": {
   "display_name": "Python 3",
   "language": "python",
   "name": "python3"
  },
  "language_info": {
   "codemirror_mode": {
    "name": "ipython",
    "version": 3
   },
   "file_extension": ".py",
   "mimetype": "text/x-python",
   "name": "python",
   "nbconvert_exporter": "python",
   "pygments_lexer": "ipython3",
   "version": "3.12.0"
  }
 },
 "nbformat": 4,
 "nbformat_minor": 5
}
